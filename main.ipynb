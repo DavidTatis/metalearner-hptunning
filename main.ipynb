{
 "cells": [
  {
   "cell_type": "code",
   "execution_count": 72,
   "metadata": {},
   "outputs": [],
   "source": [
    "import pandas as pd\n",
    "import numpy as np\n",
    "import matplotlib.pyplot as plt\n",
    "from sklearn.ensemble import RandomForestRegressor\n",
    "from sklearn.model_selection import ParameterGrid"
   ]
  },
  {
   "cell_type": "markdown",
   "metadata": {},
   "source": [
    "### Load the datasets"
   ]
  },
  {
   "cell_type": "code",
   "execution_count": 73,
   "metadata": {},
   "outputs": [
    {
     "name": "stdout",
     "output_type": "stream",
     "text": [
      "30\n"
     ]
    }
   ],
   "source": [
    "def load_meta_data(data_file_name,dataset_column_names,x_column_names,to_categorical_column_names,metric_name,error_metric=True):\n",
    "    dataset=pd.read_csv(data_file_name,names=dataset_column_names)\n",
    "    y=np.zeros(len(dataset))\n",
    "    print(len(y))\n",
    "    #CALCULATE THE Y\n",
    "    if error_metric:\n",
    "        min_error=dataset.loc[dataset[metric_name].idxmin()][metric_name]\n",
    "        error_ratio=min_error/dataset[metric_name]\n",
    "        y=error_ratio\n",
    "    else:\n",
    "        max_acc=dataset.loc[dataset[metric_name].idxmax()][metric_name]\n",
    "        acc_ratio=max_acc/dataset[metric_name]\n",
    "        y=acc_ratio\n",
    "    \n",
    "    x=dataset[x_column_names]\n",
    "\n",
    "    dummies = pd.get_dummies(x[to_categorical_column_names[:]])\n",
    "    x=x.drop(to_categorical_column_names,axis=1)\n",
    "    x=pd.concat([x,dummies],axis=1)\n",
    "    x.head()\n",
    "    return x,y\n",
    "\n",
    "dataset_column_names=[\"architecture\",\"task\",\"num_features\",\"training_samples\",\n",
    "            \"n_layers\", \"input_shape\",\"activation_function\",\n",
    "            \"learning_rate\", \"batch_size\", \"loss\",\"fit_time\",\"mae\"]\n",
    "x_column_names=[\"num_features\",\"training_samples\",\n",
    "                        \"n_layers\",\"activation_function\",\n",
    "                        \"learning_rate\", \"batch_size\",]\n",
    "metric_name=\"mae\"\n",
    "to_categorical_column_names=[\"activation_function\"]\n",
    "data_file_name=\"./data/1d_irnet.csv\"\n",
    "\n",
    "\n",
    "x,y=load_meta_data(data_file_name,dataset_column_names,x_column_names,to_categorical_column_names,metric_name,error_metric=True)                              \n",
    "\n",
    "\n"
   ]
  },
  {
   "cell_type": "markdown",
   "metadata": {},
   "source": [
    "### Meta learner"
   ]
  },
  {
   "cell_type": "code",
   "execution_count": 74,
   "metadata": {},
   "outputs": [],
   "source": [
    "regr = RandomForestRegressor(random_state=0)\n",
    "regr.fit(x,y)\n",
    "\n",
    "#HYPERPARAMETERS TO EVALUATE\n",
    "num_features=[29]\n",
    "training_samples=[240122]\n",
    "n_layers=[1,2,3]\n",
    "learning_rate=[0.01,0.001,0.0001,0.00001]\n",
    "batch_size=[16,32,64,128]\n",
    "activation_function=['relu','elu','tanh','sigmoid']\n",
    "\n",
    "#CREATE THE HYPERPARAMETER SPACE\n",
    "dict_all_hyperparams=dict(num_features=num_features,\n",
    "                            training_samples=training_samples,\n",
    "                            n_layers=n_layers,\n",
    "                            learning_rate=learning_rate,\n",
    "                            batch_size=batch_size,\n",
    "                            activation_function=activation_function)\n",
    "\n",
    "grid_search_population=pd.DataFrame(ParameterGrid(dict_all_hyperparams))\n",
    "\n",
    "#PREPROCESS THE DATA TO BE PREDICTED BY THE METALEARNER\n",
    "dummies2 = pd.get_dummies(grid_search_population[to_categorical_column_names[:]])\n",
    "x_test=pd.concat([grid_search_population[x_column_names],dummies2],axis=1)\n",
    "x_test=x_test.drop(to_categorical_column_names,axis=1)\n",
    "\n"
   ]
  },
  {
   "cell_type": "code",
   "execution_count": 75,
   "metadata": {},
   "outputs": [
    {
     "data": {
      "text/html": [
       "<div>\n",
       "<style scoped>\n",
       "    .dataframe tbody tr th:only-of-type {\n",
       "        vertical-align: middle;\n",
       "    }\n",
       "\n",
       "    .dataframe tbody tr th {\n",
       "        vertical-align: top;\n",
       "    }\n",
       "\n",
       "    .dataframe thead th {\n",
       "        text-align: right;\n",
       "    }\n",
       "</style>\n",
       "<table border=\"1\" class=\"dataframe\">\n",
       "  <thead>\n",
       "    <tr style=\"text-align: right;\">\n",
       "      <th></th>\n",
       "      <th>num_features</th>\n",
       "      <th>training_samples</th>\n",
       "      <th>n_layers</th>\n",
       "      <th>learning_rate</th>\n",
       "      <th>batch_size</th>\n",
       "      <th>activation_function_elu</th>\n",
       "      <th>activation_function_relu</th>\n",
       "      <th>activation_function_sigmoid</th>\n",
       "      <th>activation_function_tanh</th>\n",
       "      <th>y</th>\n",
       "    </tr>\n",
       "  </thead>\n",
       "  <tbody>\n",
       "    <tr>\n",
       "      <td>37</td>\n",
       "      <td>29</td>\n",
       "      <td>240122</td>\n",
       "      <td>2</td>\n",
       "      <td>0.01</td>\n",
       "      <td>128</td>\n",
       "      <td>0</td>\n",
       "      <td>1</td>\n",
       "      <td>0</td>\n",
       "      <td>0</td>\n",
       "      <td>0.983194</td>\n",
       "    </tr>\n",
       "    <tr>\n",
       "      <td>26</td>\n",
       "      <td>29</td>\n",
       "      <td>240122</td>\n",
       "      <td>3</td>\n",
       "      <td>0.01</td>\n",
       "      <td>64</td>\n",
       "      <td>0</td>\n",
       "      <td>1</td>\n",
       "      <td>0</td>\n",
       "      <td>0</td>\n",
       "      <td>0.982024</td>\n",
       "    </tr>\n",
       "    <tr>\n",
       "      <td>38</td>\n",
       "      <td>29</td>\n",
       "      <td>240122</td>\n",
       "      <td>3</td>\n",
       "      <td>0.01</td>\n",
       "      <td>128</td>\n",
       "      <td>0</td>\n",
       "      <td>1</td>\n",
       "      <td>0</td>\n",
       "      <td>0</td>\n",
       "      <td>0.981702</td>\n",
       "    </tr>\n",
       "    <tr>\n",
       "      <td>25</td>\n",
       "      <td>29</td>\n",
       "      <td>240122</td>\n",
       "      <td>2</td>\n",
       "      <td>0.01</td>\n",
       "      <td>64</td>\n",
       "      <td>0</td>\n",
       "      <td>1</td>\n",
       "      <td>0</td>\n",
       "      <td>0</td>\n",
       "      <td>0.981559</td>\n",
       "    </tr>\n",
       "    <tr>\n",
       "      <td>122</td>\n",
       "      <td>29</td>\n",
       "      <td>240122</td>\n",
       "      <td>3</td>\n",
       "      <td>0.01</td>\n",
       "      <td>64</td>\n",
       "      <td>0</td>\n",
       "      <td>0</td>\n",
       "      <td>0</td>\n",
       "      <td>1</td>\n",
       "      <td>0.976312</td>\n",
       "    </tr>\n",
       "  </tbody>\n",
       "</table>\n",
       "</div>"
      ],
      "text/plain": [
       "     num_features  training_samples  n_layers  learning_rate  batch_size  \\\n",
       "37             29            240122         2           0.01         128   \n",
       "26             29            240122         3           0.01          64   \n",
       "38             29            240122         3           0.01         128   \n",
       "25             29            240122         2           0.01          64   \n",
       "122            29            240122         3           0.01          64   \n",
       "\n",
       "     activation_function_elu  activation_function_relu  \\\n",
       "37                         0                         1   \n",
       "26                         0                         1   \n",
       "38                         0                         1   \n",
       "25                         0                         1   \n",
       "122                        0                         0   \n",
       "\n",
       "     activation_function_sigmoid  activation_function_tanh         y  \n",
       "37                             0                         0  0.983194  \n",
       "26                             0                         0  0.982024  \n",
       "38                             0                         0  0.981702  \n",
       "25                             0                         0  0.981559  \n",
       "122                            0                         1  0.976312  "
      ]
     },
     "execution_count": 75,
     "metadata": {},
     "output_type": "execute_result"
    }
   ],
   "source": [
    "#PREDICTION OF THE HYPERPARAMETER SPACE\n",
    "predictions= pd.DataFrame(regr.predict(x_test))\n",
    "x_test[\"y\"]=pd.DataFrame(regr.predict(x_test))\n",
    "x_test.head()\n",
    "\n",
    "x_test=x_test.sort_values(\"y\",ascending=False)\n",
    "x_test.head()"
   ]
  },
  {
   "cell_type": "code",
   "execution_count": null,
   "metadata": {},
   "outputs": [],
   "source": []
  }
 ],
 "metadata": {
  "kernelspec": {
   "display_name": "Python 3.7.4 ('gpu2': conda)",
   "language": "python",
   "name": "python3"
  },
  "language_info": {
   "codemirror_mode": {
    "name": "ipython",
    "version": 3
   },
   "file_extension": ".py",
   "mimetype": "text/x-python",
   "name": "python",
   "nbconvert_exporter": "python",
   "pygments_lexer": "ipython3",
   "version": "3.7.4"
  },
  "orig_nbformat": 4,
  "vscode": {
   "interpreter": {
    "hash": "0a0cbb9f60c8eee06fcff2a3e781b787b625e426ae10e4b3b3444b8ac7b4e16c"
   }
  }
 },
 "nbformat": 4,
 "nbformat_minor": 2
}
