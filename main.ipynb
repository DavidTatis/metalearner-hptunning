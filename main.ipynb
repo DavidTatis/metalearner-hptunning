{
 "cells": [
  {
   "cell_type": "code",
   "execution_count": 1,
   "metadata": {},
   "outputs": [],
   "source": [
    "import pandas as pd\n",
    "import numpy as np\n",
    "import matplotlib.pyplot as plt\n",
    "from sklearn.ensemble import RandomForestRegressor\n",
    "from sklearn.model_selection import ParameterGrid"
   ]
  },
  {
   "cell_type": "markdown",
   "metadata": {},
   "source": [
    "### Load the datasets"
   ]
  },
  {
   "cell_type": "code",
   "execution_count": 2,
   "metadata": {},
   "outputs": [],
   "source": [
    "def load_meta_data(data_file_name,dataset_column_names,x_column_names,to_categorical_column_names,metric_name,error_metric=True):\n",
    "    dataset=pd.read_csv(data_file_name,names=dataset_column_names)\n",
    "    y=np.zeros(len(dataset))\n",
    "    print(len(y))\n",
    "    #CALCULATE THE Y\n",
    "    if error_metric:\n",
    "        min_error=dataset.loc[dataset[metric_name].idxmin()][metric_name]\n",
    "        error_ratio=min_error/dataset[metric_name]\n",
    "        y=error_ratio\n",
    "    else:\n",
    "        max_acc=dataset.loc[dataset[metric_name].idxmax()][metric_name]\n",
    "        acc_ratio=max_acc/dataset[metric_name]\n",
    "        y=acc_ratio\n",
    "    \n",
    "    x=dataset[x_column_names]\n",
    "\n",
    "    dummies = pd.get_dummies(x[to_categorical_column_names[:]],prefix=[''],prefix_sep=[''])\n",
    "    x=x.drop(to_categorical_column_names,axis=1)\n",
    "    x=pd.concat([x,dummies],axis=1)\n",
    "    x.head()\n",
    "    return x,y\n",
    "\n"
   ]
  },
  {
   "cell_type": "markdown",
   "metadata": {},
   "source": [
    "### Meta learner Functions"
   ]
  },
  {
   "cell_type": "code",
   "execution_count": 3,
   "metadata": {},
   "outputs": [],
   "source": [
    "def create_metamodel(x,y):\n",
    "    regr = RandomForestRegressor(random_state=0)\n",
    "    regr.fit(x,y)\n",
    "    return regr\n",
    "\n",
    "def create_hp_space():\n",
    "    #CREATE THE HYPERPARAMETER SPACE\n",
    "    dict_all_hyperparams=dict(num_features=num_features,\n",
    "                                training_samples=training_samples,\n",
    "                                n_layers=n_layers,\n",
    "                                learning_rate=learning_rate,\n",
    "                                batch_size=batch_size,\n",
    "                                activation_function=activation_function)\n",
    "\n",
    "    grid_search_population=pd.DataFrame(ParameterGrid(dict_all_hyperparams))\n",
    "    return grid_search_population\n",
    "    \n",
    "def predict_hp_space(grid_search_population,regr):\n",
    "    #PREPROCESS THE DATA TO BE PREDICTED BY THE METALEARNER\n",
    "    dummies2 = pd.get_dummies(grid_search_population[to_categorical_column_names[:]],prefix=[''],prefix_sep=[''])\n",
    "    x_test=pd.concat([grid_search_population[x_column_names],dummies2],axis=1)\n",
    "    x_test=x_test.drop(to_categorical_column_names,axis=1)\n",
    "    #PREDICTION OF THE HYPERPARAMETER SPACE\n",
    "    predictions= pd.DataFrame(regr.predict(x_test))\n",
    "    x_test_predicted=x_test.loc[:]\n",
    "\n",
    "    #REVERSE THE CATEGORICAL OF THE ACTIVATION FUNCTION\n",
    "    x_test_predicted[\"activation_function\"]=x_test_predicted[activation_function].idxmax(axis=1)\n",
    "    x_test_predicted=x_test_predicted.drop(activation_function,axis=1)\n",
    "\n",
    "    x_test_predicted[\"y\"]=pd.DataFrame(regr.predict(x_test))\n",
    "    x_test_predicted=x_test_predicted.sort_values(\"y\",ascending=False)\n",
    "    return x_test_predicted\n",
    "def get_top_hp_combination(n_top_hp_to_select,x_test_predicted):\n",
    "\n",
    "    #SEARCH FOR THE TOP COMBINATION\n",
    "    top_lr=[]\n",
    "    top_bz=[]\n",
    "    top_layers=[]\n",
    "    top_af=[]\n",
    "    search=True\n",
    "    topi=1\n",
    "    finish_order=[]\n",
    "    while(search): \n",
    "        if len(top_lr)<n_top_hp_to_select:\n",
    "            top_lr=x_test_predicted.head(topi)[\"learning_rate\"].unique()\n",
    "        else:\n",
    "            if(\"learning_rate\" not in finish_order): finish_order.append(\"learning_rate\")\n",
    "        \n",
    "        if len(top_bz)<n_top_hp_to_select:\n",
    "            top_bz=x_test_predicted.head(topi)[\"batch_size\"].unique()\n",
    "        else:\n",
    "            if (\"batch_size\" not in finish_order): finish_order.append(\"batch_size\")\n",
    "        \n",
    "        if len(top_layers)<n_top_hp_to_select:\n",
    "            top_layers=x_test_predicted.head(topi)[\"n_layers\"].unique()\n",
    "        else:\n",
    "            if (\"n_layers\" not in finish_order): finish_order.append(\"n_layers\")\n",
    "        \n",
    "        if len(top_af)<n_top_hp_to_select:\n",
    "            top_af=x_test_predicted.head(topi)[\"activation_function\"].unique()\n",
    "        else:\n",
    "            if (\"activation_function\" not in finish_order): finish_order.append(\"activation_function\")\n",
    "        \n",
    "        topi +=1\n",
    "        if len(top_lr)<n_top_hp_to_select or len(top_bz)<n_top_hp_to_select or len(top_layers)<n_top_hp_to_select or len(top_af)<n_top_hp_to_select:\n",
    "            search=True\n",
    "        else:\n",
    "            if(\"learning_rate\" not in finish_order): finish_order.append(\"learning_rate\")\n",
    "            if (\"batch_size\" not in finish_order): finish_order.append(\"batch_size\")\n",
    "            if (\"n_layers\" not in finish_order): finish_order.append(\"n_layers\")\n",
    "            if (\"activation_function\" not in finish_order): finish_order.append(\"activation_function\")\n",
    "            search=False\n",
    "    \n",
    "    return top_lr,top_bz,top_layers,top_af,finish_order\n",
    "\n",
    "\n",
    "\n"
   ]
  },
  {
   "cell_type": "code",
   "execution_count": 4,
   "metadata": {},
   "outputs": [
    {
     "name": "stdout",
     "output_type": "stream",
     "text": [
      "30\n"
     ]
    }
   ],
   "source": [
    "\n",
    "#DATASET NAMES    \n",
    "dataset_column_names=[\"architecture\",\"task\",\"num_features\",\"training_samples\",\n",
    "            \"n_layers\", \"input_shape\",\"activation_function\",\n",
    "            \"learning_rate\", \"batch_size\", \"loss\",\"fit_time\",\"mae\"]\n",
    "x_column_names=[\"num_features\",\"training_samples\",\n",
    "                        \"n_layers\",\"activation_function\",\n",
    "                        \"learning_rate\", \"batch_size\",]\n",
    "metric_name=\"mae\"\n",
    "to_categorical_column_names=[\"activation_function\"]\n",
    "data_file_name=\"./data/1d_irnet.csv\"\n",
    "#HYPERPARAMETERS TO EVALUATE\n",
    "num_features=[29]\n",
    "training_samples=[240122]\n",
    "n_layers=[1,2,3]\n",
    "learning_rate=[0.01,0.001,0.0001,0.00001]\n",
    "batch_size=[16,32,64,128]\n",
    "activation_function=['relu','elu','tanh','sigmoid']\n",
    "n_top_hp_to_select=2\n",
    "\n",
    "\n",
    "x,y=load_meta_data(data_file_name,dataset_column_names,x_column_names,to_categorical_column_names,metric_name,error_metric=True)                              \n",
    "model=create_metamodel(x,y)\n",
    "gs_population=create_hp_space()\n",
    "predictions=predict_hp_space(gs_population,model)\n",
    "top_lr,top_bz,top_layers,top_af,finish_order=get_top_hp_combination(n_top_hp_to_select,predictions)\n",
    "\n"
   ]
  },
  {
   "cell_type": "code",
   "execution_count": 5,
   "metadata": {},
   "outputs": [
    {
     "name": "stdout",
     "output_type": "stream",
     "text": [
      "[0.01  0.001] [128  64] [2 3] ['relu' 'tanh'] ['batch_size', 'n_layers', 'activation_function', 'learning_rate']\n"
     ]
    }
   ],
   "source": [
    "print(top_lr,top_bz,top_layers,top_af,finish_order)"
   ]
  },
  {
   "cell_type": "code",
   "execution_count": null,
   "metadata": {},
   "outputs": [],
   "source": []
  }
 ],
 "metadata": {
  "kernelspec": {
   "display_name": "Python 3.7.4 ('gpu2': conda)",
   "language": "python",
   "name": "python3"
  },
  "language_info": {
   "codemirror_mode": {
    "name": "ipython",
    "version": 3
   },
   "file_extension": ".py",
   "mimetype": "text/x-python",
   "name": "python",
   "nbconvert_exporter": "python",
   "pygments_lexer": "ipython3",
   "version": "3.7.4"
  },
  "orig_nbformat": 4,
  "vscode": {
   "interpreter": {
    "hash": "0a0cbb9f60c8eee06fcff2a3e781b787b625e426ae10e4b3b3444b8ac7b4e16c"
   }
  }
 },
 "nbformat": 4,
 "nbformat_minor": 2
}
