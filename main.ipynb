{
 "cells": [
  {
   "cell_type": "code",
   "execution_count": 100,
   "metadata": {},
   "outputs": [],
   "source": [
    "import pandas as pd\n",
    "import numpy as np\n",
    "import matplotlib.pyplot as plt\n",
    "from sklearn.ensemble import RandomForestRegressor\n",
    "from sklearn.model_selection import ParameterGrid"
   ]
  },
  {
   "cell_type": "markdown",
   "metadata": {},
   "source": [
    "### Load the datasets"
   ]
  },
  {
   "cell_type": "code",
   "execution_count": 101,
   "metadata": {},
   "outputs": [
    {
     "name": "stdout",
     "output_type": "stream",
     "text": [
      "30\n"
     ]
    }
   ],
   "source": [
    "def load_meta_data(data_file_name,dataset_column_names,x_column_names,to_categorical_column_names,metric_name,error_metric=True):\n",
    "    dataset=pd.read_csv(data_file_name,names=dataset_column_names)\n",
    "    y=np.zeros(len(dataset))\n",
    "    print(len(y))\n",
    "    #CALCULATE THE Y\n",
    "    if error_metric:\n",
    "        min_error=dataset.loc[dataset[metric_name].idxmin()][metric_name]\n",
    "        error_ratio=min_error/dataset[metric_name]\n",
    "        y=error_ratio\n",
    "    else:\n",
    "        max_acc=dataset.loc[dataset[metric_name].idxmax()][metric_name]\n",
    "        acc_ratio=max_acc/dataset[metric_name]\n",
    "        y=acc_ratio\n",
    "    \n",
    "    x=dataset[x_column_names]\n",
    "\n",
    "    dummies = pd.get_dummies(x[to_categorical_column_names[:]],prefix=[''],prefix_sep=[''])\n",
    "    x=x.drop(to_categorical_column_names,axis=1)\n",
    "    x=pd.concat([x,dummies],axis=1)\n",
    "    x.head()\n",
    "    return x,y\n",
    "\n",
    "dataset_column_names=[\"architecture\",\"task\",\"num_features\",\"training_samples\",\n",
    "            \"n_layers\", \"input_shape\",\"activation_function\",\n",
    "            \"learning_rate\", \"batch_size\", \"loss\",\"fit_time\",\"mae\"]\n",
    "x_column_names=[\"num_features\",\"training_samples\",\n",
    "                        \"n_layers\",\"activation_function\",\n",
    "                        \"learning_rate\", \"batch_size\",]\n",
    "metric_name=\"mae\"\n",
    "to_categorical_column_names=[\"activation_function\"]\n",
    "data_file_name=\"./data/1d_irnet.csv\"\n",
    "\n",
    "\n",
    "x,y=load_meta_data(data_file_name,dataset_column_names,x_column_names,to_categorical_column_names,metric_name,error_metric=True)                              \n",
    "\n",
    "\n"
   ]
  },
  {
   "cell_type": "markdown",
   "metadata": {},
   "source": [
    "### Meta learner"
   ]
  },
  {
   "cell_type": "code",
   "execution_count": 102,
   "metadata": {},
   "outputs": [],
   "source": [
    "regr = RandomForestRegressor(random_state=0)\n",
    "regr.fit(x,y)\n",
    "\n",
    "#HYPERPARAMETERS TO EVALUATE\n",
    "num_features=[29]\n",
    "training_samples=[240122]\n",
    "n_layers=[1,2,3]\n",
    "learning_rate=[0.01,0.001,0.0001,0.00001]\n",
    "batch_size=[16,32,64,128]\n",
    "activation_function=['relu','elu','tanh','sigmoid']\n",
    "\n",
    "#CREATE THE HYPERPARAMETER SPACE\n",
    "dict_all_hyperparams=dict(num_features=num_features,\n",
    "                            training_samples=training_samples,\n",
    "                            n_layers=n_layers,\n",
    "                            learning_rate=learning_rate,\n",
    "                            batch_size=batch_size,\n",
    "                            activation_function=activation_function)\n",
    "\n",
    "grid_search_population=pd.DataFrame(ParameterGrid(dict_all_hyperparams))\n",
    "\n",
    "#PREPROCESS THE DATA TO BE PREDICTED BY THE METALEARNER\n",
    "dummies2 = pd.get_dummies(grid_search_population[to_categorical_column_names[:]],prefix=[''],prefix_sep=[''])\n",
    "x_test=pd.concat([grid_search_population[x_column_names],dummies2],axis=1)\n",
    "x_test=x_test.drop(to_categorical_column_names,axis=1)\n",
    "\n"
   ]
  },
  {
   "cell_type": "code",
   "execution_count": 103,
   "metadata": {},
   "outputs": [
    {
     "name": "stdout",
     "output_type": "stream",
     "text": [
      "Top needed find first_x_uniques:  38\n",
      "Top hyperparams:  [0.01  0.001] [128  64] [2 3] ['relu' 'tanh']\n",
      "Finds order:  ['batch_size', 'n_layers', 'activation_function', 'learning_rate']\n"
     ]
    }
   ],
   "source": [
    "#PREDICTION OF THE HYPERPARAMETER SPACE\n",
    "predictions= pd.DataFrame(regr.predict(x_test))\n",
    "x_test_predicted=x_test.loc[:]\n",
    "\n",
    "#REVERSE THE CATEGORICAL OF THE ACTIVATION FUNCTION\n",
    "x_test_predicted[\"activation_function\"]=x_test_predicted[activation_function].idxmax(axis=1)\n",
    "x_test_predicted=x_test_predicted.drop(activation_function,axis=1)\n",
    "\n",
    "x_test_predicted[\"y\"]=pd.DataFrame(regr.predict(x_test))\n",
    "x_test_predicted=x_test_predicted.sort_values(\"y\",ascending=False)\n",
    "\n",
    "#SEARCH FOR THE TOP COMBINATION\n",
    "first_x_uniques=2\n",
    "top_lr=[]\n",
    "top_bz=[]\n",
    "top_layers=[]\n",
    "top_af=[]\n",
    "search=True\n",
    "topi=1\n",
    "finish_order=[]\n",
    "while(search):\n",
    "    if len(top_lr)<first_x_uniques:\n",
    "       top_lr=x_test_predicted.head(topi)[\"learning_rate\"].unique()\n",
    "    else:\n",
    "        if(\"learning_rate\" not in finish_order): finish_order.append(\"learning_rate\")\n",
    "    \n",
    "    if len(top_bz)<first_x_uniques:\n",
    "       top_bz=x_test_predicted.head(topi)[\"batch_size\"].unique()\n",
    "    else:\n",
    "        if (\"batch_size\" not in finish_order): finish_order.append(\"batch_size\")\n",
    "    \n",
    "    if len(top_layers)<first_x_uniques:\n",
    "       top_layers=x_test_predicted.head(topi)[\"n_layers\"].unique()\n",
    "    else:\n",
    "        if (\"n_layers\" not in finish_order): finish_order.append(\"n_layers\")\n",
    "    \n",
    "    if len(top_af)<first_x_uniques:\n",
    "       top_af=x_test_predicted.head(topi)[\"activation_function\"].unique()\n",
    "    else:\n",
    "        if (\"activation_function\" not in finish_order): finish_order.append(\"activation_function\")\n",
    "    \n",
    "    topi +=1\n",
    "    if len(top_lr)<first_x_uniques or len(top_bz)<first_x_uniques or len(top_layers)<first_x_uniques or len(top_af)<first_x_uniques:\n",
    "        search=True\n",
    "    else:\n",
    "        if(\"learning_rate\" not in finish_order): finish_order.append(\"learning_rate\")\n",
    "        if (\"batch_size\" not in finish_order): finish_order.append(\"batch_size\")\n",
    "        if (\"n_layers\" not in finish_order): finish_order.append(\"n_layers\")\n",
    "        if (\"activation_function\" not in finish_order): finish_order.append(\"activation_function\")\n",
    "        search=False\n",
    "print(\"Top needed find first_x_uniques: \",topi)\n",
    "print(\"Top hyperparams: \",top_lr,top_bz,top_layers,top_af)\n",
    "print(\"Finds order: \",finish_order)\n",
    "    "
   ]
  },
  {
   "cell_type": "code",
   "execution_count": 104,
   "metadata": {},
   "outputs": [
    {
     "data": {
      "text/html": [
       "<div>\n",
       "<style scoped>\n",
       "    .dataframe tbody tr th:only-of-type {\n",
       "        vertical-align: middle;\n",
       "    }\n",
       "\n",
       "    .dataframe tbody tr th {\n",
       "        vertical-align: top;\n",
       "    }\n",
       "\n",
       "    .dataframe thead th {\n",
       "        text-align: right;\n",
       "    }\n",
       "</style>\n",
       "<table border=\"1\" class=\"dataframe\">\n",
       "  <thead>\n",
       "    <tr style=\"text-align: right;\">\n",
       "      <th></th>\n",
       "      <th>num_features</th>\n",
       "      <th>training_samples</th>\n",
       "      <th>n_layers</th>\n",
       "      <th>learning_rate</th>\n",
       "      <th>batch_size</th>\n",
       "      <th>activation_function</th>\n",
       "      <th>y</th>\n",
       "    </tr>\n",
       "  </thead>\n",
       "  <tbody>\n",
       "    <tr>\n",
       "      <td>37</td>\n",
       "      <td>29</td>\n",
       "      <td>240122</td>\n",
       "      <td>2</td>\n",
       "      <td>0.01</td>\n",
       "      <td>128</td>\n",
       "      <td>relu</td>\n",
       "      <td>0.983194</td>\n",
       "    </tr>\n",
       "    <tr>\n",
       "      <td>26</td>\n",
       "      <td>29</td>\n",
       "      <td>240122</td>\n",
       "      <td>3</td>\n",
       "      <td>0.01</td>\n",
       "      <td>64</td>\n",
       "      <td>relu</td>\n",
       "      <td>0.982024</td>\n",
       "    </tr>\n",
       "    <tr>\n",
       "      <td>38</td>\n",
       "      <td>29</td>\n",
       "      <td>240122</td>\n",
       "      <td>3</td>\n",
       "      <td>0.01</td>\n",
       "      <td>128</td>\n",
       "      <td>relu</td>\n",
       "      <td>0.981702</td>\n",
       "    </tr>\n",
       "    <tr>\n",
       "      <td>25</td>\n",
       "      <td>29</td>\n",
       "      <td>240122</td>\n",
       "      <td>2</td>\n",
       "      <td>0.01</td>\n",
       "      <td>64</td>\n",
       "      <td>relu</td>\n",
       "      <td>0.981559</td>\n",
       "    </tr>\n",
       "    <tr>\n",
       "      <td>122</td>\n",
       "      <td>29</td>\n",
       "      <td>240122</td>\n",
       "      <td>3</td>\n",
       "      <td>0.01</td>\n",
       "      <td>64</td>\n",
       "      <td>tanh</td>\n",
       "      <td>0.976312</td>\n",
       "    </tr>\n",
       "  </tbody>\n",
       "</table>\n",
       "</div>"
      ],
      "text/plain": [
       "     num_features  training_samples  n_layers  learning_rate  batch_size  \\\n",
       "37             29            240122         2           0.01         128   \n",
       "26             29            240122         3           0.01          64   \n",
       "38             29            240122         3           0.01         128   \n",
       "25             29            240122         2           0.01          64   \n",
       "122            29            240122         3           0.01          64   \n",
       "\n",
       "    activation_function         y  \n",
       "37                 relu  0.983194  \n",
       "26                 relu  0.982024  \n",
       "38                 relu  0.981702  \n",
       "25                 relu  0.981559  \n",
       "122                tanh  0.976312  "
      ]
     },
     "execution_count": 104,
     "metadata": {},
     "output_type": "execute_result"
    }
   ],
   "source": []
  },
  {
   "cell_type": "code",
   "execution_count": null,
   "metadata": {},
   "outputs": [],
   "source": []
  }
 ],
 "metadata": {
  "kernelspec": {
   "display_name": "Python 3.7.4 ('gpu2': conda)",
   "language": "python",
   "name": "python3"
  },
  "language_info": {
   "codemirror_mode": {
    "name": "ipython",
    "version": 3
   },
   "file_extension": ".py",
   "mimetype": "text/x-python",
   "name": "python",
   "nbconvert_exporter": "python",
   "pygments_lexer": "ipython3",
   "version": "3.7.4"
  },
  "orig_nbformat": 4,
  "vscode": {
   "interpreter": {
    "hash": "0a0cbb9f60c8eee06fcff2a3e781b787b625e426ae10e4b3b3444b8ac7b4e16c"
   }
  }
 },
 "nbformat": 4,
 "nbformat_minor": 2
}
